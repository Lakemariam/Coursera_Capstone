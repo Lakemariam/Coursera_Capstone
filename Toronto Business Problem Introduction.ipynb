{
 "cells": [
  {
   "cell_type": "markdown",
   "metadata": {},
   "source": [
    "# Capstone Project – I"
   ]
  },
  {
   "cell_type": "markdown",
   "metadata": {},
   "source": [
    "## 1. Introduction"
   ]
  },
  {
   "cell_type": "markdown",
   "metadata": {},
   "source": [
    "### 1.1. Backgrouund"
   ]
  },
  {
   "cell_type": "markdown",
   "metadata": {},
   "source": [
    "    Toronto is the provincial capital of Ontario province in Canada. Greater Toronto Area (GTA) is the most populous region in Canada and Toronto is one of the major metropolitan cities in the world. The city of Toronto has over 10 thousand years of history with multicultural diverse community that includes white European, black Canadian (mostly Caribbean), Asians and south American descents. Majority of the city is composed of minority groups. As in most north America cities those who have other cultural background usually tend to eat foods, drinks, wear clothes, and practice religion that is originally from their heritage. \n",
    "    Toronto hosted several types of sport activities like football, hockey, basketball, soccer, baseball, and box lacrosse.  In addition to these activities there are different cultural celebrations and one of the major city-wide annual cultural celebration is The Toronto Caribbean Carnival (TCC) or formerly known as Caribana. The Caribana established in 1967 as a non-profit foundation to celebrate Caribbean population in Toronto, Ontario."
   ]
  },
  {
   "cell_type": "markdown",
   "metadata": {},
   "source": [
    "### 1.2. Business Problem"
   ]
  },
  {
   "cell_type": "markdown",
   "metadata": {},
   "source": [
    "    The Caribana is considered to be the largest carnival festive in north America and generate an estimated of half a billion dollars economy to Ontario region annually. However, in the black immigrant community of these cities there is a shortage of cultural foods, drinks, and other necessities. Opening a black cultural bars, restaurants, and coffee shops is vital for those communities. These businesses benefit from the carnival event as it is the biggest event for food and drink. In addition to food and drink the Caribbean community’s have been used cannabis as a traditional healer of sort. During the carnival cultural food truck business is a greater addition to the event by following all legal requirements. "
   ]
  },
  {
   "cell_type": "code",
   "execution_count": null,
   "metadata": {},
   "outputs": [],
   "source": []
  }
 ],
 "metadata": {
  "kernelspec": {
   "display_name": "Python 3",
   "language": "python",
   "name": "python3"
  },
  "language_info": {
   "codemirror_mode": {
    "name": "ipython",
    "version": 3
   },
   "file_extension": ".py",
   "mimetype": "text/x-python",
   "name": "python",
   "nbconvert_exporter": "python",
   "pygments_lexer": "ipython3",
   "version": "3.6.4"
  }
 },
 "nbformat": 4,
 "nbformat_minor": 2
}
