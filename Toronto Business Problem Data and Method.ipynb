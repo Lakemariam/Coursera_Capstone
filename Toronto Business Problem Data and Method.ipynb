{
 "cells": [
  {
   "cell_type": "markdown",
   "metadata": {},
   "source": [
    "# Capstone Project – I"
   ]
  },
  {
   "cell_type": "markdown",
   "metadata": {},
   "source": [
    "## 2. Data"
   ]
  },
  {
   "cell_type": "markdown",
   "metadata": {},
   "source": [
    "    Toronto area has around thirty-three (33) postcodes with several neighborhoods within it. The neighborhood data was extracted from a Wikipedia page of Canada postcodes: https://en.wikipedia.org/wiki/List_of_postal_codes_of_Canada:_M. Canada postcodes data was downloaded, scrapped, and cleaned using different python library packages including Pandas, Requests, BeautifulSoup, and Geopy. \n",
    "    To scrap the data initially the Wikipedia was downloaded using WGET and then cleaned. After cleaning the data for Toronto area geopy and geocoder were used to plot Foursquare events in these neighborhoods. Using the above-mentioned methodology, it is possible to suggest for Caribbean cultural food and drink business owners where to run a food truck during Caribana festivities.   "
   ]
  },
  {
   "cell_type": "code",
   "execution_count": null,
   "metadata": {},
   "outputs": [],
   "source": []
  }
 ],
 "metadata": {
  "kernelspec": {
   "display_name": "Python 3",
   "language": "python",
   "name": "python3"
  },
  "language_info": {
   "codemirror_mode": {
    "name": "ipython",
    "version": 3
   },
   "file_extension": ".py",
   "mimetype": "text/x-python",
   "name": "python",
   "nbconvert_exporter": "python",
   "pygments_lexer": "ipython3",
   "version": "3.6.4"
  }
 },
 "nbformat": 4,
 "nbformat_minor": 2
}
